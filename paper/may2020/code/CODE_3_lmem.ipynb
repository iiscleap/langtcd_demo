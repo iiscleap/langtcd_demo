{
 "cells": [
  {
   "cell_type": "markdown",
   "metadata": {},
   "source": [
    "#  Fit linear regression model"
   ]
  },
  {
   "cell_type": "markdown",
   "metadata": {
    "collapsed": true
   },
   "source": [
    "Step 1: Load packages"
   ]
  },
  {
   "cell_type": "code",
   "execution_count": 115,
   "metadata": {
    "collapsed": true
   },
   "outputs": [],
   "source": [
    "%matplotlib inline\n",
    "import pandas as pd\n",
    "import numpy as np\n",
    "import matplotlib.pyplot as plt\n",
    "from collections import Counter\n",
    "import seaborn as sns; sns.set()\n",
    "import scipy\n",
    "from sklearn import datasets, linear_model\n",
    "from sklearn.metrics import mean_squared_error, r2_score\n",
    "import statsmodels.api as sm\n",
    "import statsmodels.formula.api as smf\n",
    "from statsmodels.sandbox.regression.predstd import wls_prediction_std\n",
    "from scipy import stats\n",
    "from scipy.stats import zscore\n",
    "from matplotlib.ticker import (MultipleLocator, FormatStrFormatter,\n",
    "                               AutoMinorLocator)\n",
    "from mpl_toolkits.axes_grid1 import make_axes_locatable\n",
    "sns.set_style(\"white\")\n",
    "sns.set_style(\"ticks\")"
   ]
  },
  {
   "cell_type": "markdown",
   "metadata": {
    "collapsed": true
   },
   "source": [
    "Step 2: Init paths"
   ]
  },
  {
   "cell_type": "code",
   "execution_count": 116,
   "metadata": {
    "collapsed": true
   },
   "outputs": [],
   "source": [
    "path_store_figure = './figures/'"
   ]
  },
  {
   "cell_type": "markdown",
   "metadata": {},
   "source": [
    "Step 3: Load pooled subject CSV cintaining RTs, feature distaces, etc, and do linear modeling"
   ]
  },
  {
   "cell_type": "code",
   "execution_count": 117,
   "metadata": {},
   "outputs": [],
   "source": [
    "# init feat names\n",
    "feats_column_name = ['pitch','mfcc', 'mel','scentroid','harm','intensity','xvec']\n",
    "# load CSV\n",
    "url = './dataAnalysis/data/csvs/praat_pooled_subject_response_acoustic_feats_data_euc.csv'\n",
    "DF = pd.read_csv(url)\n",
    "# make RT column\n",
    "DF['RT'] = DF['t_resp'] - DF['t_end'] # make a response time column\n",
    "# make incorrect column\n",
    "DF['incorrect'] = np.abs(DF['label'] - DF['response']) # make a correct response column\n",
    "# collect indices  of outliers\n",
    "indx = []\n",
    "indx.append(DF.loc[DF['session'] == 'TRAIN'].index.to_numpy()) # pick train samples\n",
    "indx.append(np.where(DF[\"response\"].values <0)[0]) # pick erroneous capture\n",
    "indx.append(np.where(DF[\"RT\"].values <.02)[0]) # pick RT<20 msec\n",
    "indx.append(np.where(DF[\"RT\"].values >2)[0]) # pick RT>2000 msec"
   ]
  },
  {
   "cell_type": "code",
   "execution_count": 118,
   "metadata": {},
   "outputs": [],
   "source": [
    "# pool indices to drop\n",
    "indx_drop  = list(set(indx[0]) | set(indx[1]) | set(indx[2]) | set(indx[3]))\n",
    "DF_pruned = DF.copy()\n",
    "DF_pruned = DF_pruned.drop(index=indx_drop,axis=0)\n",
    "DF_pruned = DF_pruned.dropna(axis=0)\n",
    "# save pruned CSV\n",
    "DF.to_csv('./dataAnalysis/data/csvs/praat_pooled_subject_response_acoustic_feats_data_pruned.csv',index=False) "
   ]
  },
  {
   "cell_type": "code",
   "execution_count": 119,
   "metadata": {},
   "outputs": [],
   "source": [
    "# Fit RT by drawing subsets from the DF_pruned\n",
    "lang_type = [0,1] # chin/eng\n",
    "label_type = [1,2] # 1 talker/2 talker\n",
    "incorrect_type = [0,1] # correct/incorrect\n",
    "\n",
    "pooled_pvals_thres = []\n",
    "pooled_rsquare = []\n",
    "for i in range(len(lang_type)):\n",
    "    pooled_pvals_thres.append([])\n",
    "    pooled_rsquare.append([])\n",
    "    \n",
    "    for j in range(len(incorrect_type)):\n",
    "        pooled_pvals_thres[i].append([])\n",
    "        pooled_rsquare[i].append([])\n",
    "        \n",
    "        for k in range(len(label_type)):\n",
    "            pooled_pvals_thres[i][j].append([])\n",
    "            pooled_rsquare[i][j].append([])\n",
    "        \n",
    "            DF_pruned = DF.copy()\n",
    "            DF_pruned = DF_pruned.drop(index=indx_drop,axis=0)\n",
    "            DF_pruned = DF_pruned.dropna(axis=0)\n",
    "            DF_pruned = DF_pruned.loc[(DF_pruned['lang']==lang_type[i])\\\n",
    "                                     &(DF_pruned['incorrect']==incorrect_type[j])\\\n",
    "                                     &(DF_pruned['label']==label_type[k])]\n",
    "            DF_pruned[feats_column_name] = DF_pruned[feats_column_name].apply(zscore)\n",
    "            \n",
    "            # fit model\n",
    "            md_1 = smf.ols(\"np.log(RT) ~ mel+mfcc+intensity+scentroid+harm+pitch+xvec\\\n",
    "                   +t_end+C(subID)\", data=DF_pruned).fit()\n",
    "            \n",
    "            r_square_pooled  = md_1.rsquared\n",
    "            p_vals_pooled = md_1.pvalues.to_frame().loc[:,0].values\n",
    "            coeffs_pooled = md_1.params.to_frame().loc[:,0].values\n",
    "            labels = md_1.pvalues.to_frame().index.values\n",
    "            indx = [0]+list(np.arange(28,len(labels)))\n",
    "\n",
    "            table = sm.stats.anova_lm(md_1, typ=2) # Type 2 ANOVA DataFrame\n",
    "            p_vals_pooled = np.array(table['PR(>F)'].values[:-1])\n",
    "            p_vals_pooled_thres = p_vals_pooled < 0.05\n",
    "            p_vals_pooled_thres = p_vals_pooled_thres.astype(int)\n",
    "            sub_indx = np.where(p_vals_pooled_thres==1)[0]\n",
    "            coeffs_pooled_subset = coeffs_pooled[indx]\n",
    "            \n",
    "            pooled_pvals_thres[i][j][k].append(p_vals_pooled_thres)\n",
    "            pooled_rsquare[i][j][k].append(r_square_pooled)\n",
    "            \n",
    "p_labels = ['SUB_ID','MEL','MFCC','INTENSITY','SCENTROID',\\\n",
    "                   'HNR','PITCH','XVEC','$T_d$']\n",
    "            "
   ]
  },
  {
   "cell_type": "code",
   "execution_count": 120,
   "metadata": {},
   "outputs": [
    {
     "data": {
      "image/png": "[encoded data removed]",
      "text/plain": [
       "<Figure size 576x288 with 1 Axes>"
      ]
     },
     "metadata": {},
     "output_type": "display_data"
    }
   ],
   "source": [
    "# make plots\n",
    "fig, ax = plt.subplots(figsize=(8,4))\n",
    "cnt = 0\n",
    "for i in range(len(lang_type)):\n",
    "    for j in range(len(incorrect_type)):\n",
    "        for k in range(len(label_type)):\n",
    "            p_vals_pooled_thres = pooled_pvals_thres[i][j][k][0]\n",
    "            sub_indx = np.where(p_vals_pooled_thres==1)[0]\n",
    "            plt.plot(cnt+np.ones((len(sub_indx),1)),sub_indx,'s',color='green',markersize=12)\n",
    "            cnt = cnt+1\n",
    "        cnt = cnt+1\n",
    "    cnt = cnt+1\n",
    "plt.grid(True)\n",
    "# ax.set_xlabel('SUBJECT ID',fontsize=14)\n",
    "ax.set_ylabel('PREDICTORS',fontsize=14)\n",
    "ax.set_yticks(np.arange(0,len(p_labels),1))\n",
    "ax.set_yticklabels(p_labels, rotation=0)\n",
    "ax.set_xticks([1,2,4,5,8,9,11,12])\n",
    "ax.spines['right'].set_color('none')\n",
    "ax.spines['top'].set_color('none')\n",
    "ax.set_xlim([-1,13])\n",
    "ax.set_ylim([-1,10])\n",
    "plt.xticks(fontsize=13)\n",
    "plt.yticks(fontsize=13)\n",
    "plt.savefig(path_store_figure+\"human_pvals.pdf\", dpi=None, facecolor='w', edgecolor='w',\n",
    "             orientation='portrait', papertype=None, format='pdf',transparent=False, bbox_inches='tight', pad_inches=None, metadata=None)\n",
    "plt.show()\n"
   ]
  },
  {
   "cell_type": "code",
   "execution_count": 121,
   "metadata": {},
   "outputs": [
    {
     "data": {
      "image/png": "[encoded data removed]",
      "text/plain": [
       "<Figure size 576x288 with 1 Axes>"
      ]
     },
     "metadata": {},
     "output_type": "display_data"
    }
   ],
   "source": [
    "fig, ax = plt.subplots(figsize=(8,4))\n",
    "cnt = 0\n",
    "for i in range(len(lang_type)):\n",
    "    for j in range(len(label_type)):\n",
    "        for k in range(len(incorrect_type)):\n",
    "            if i == 0:\n",
    "                ax.bar(1+cnt,pooled_rsquare[i][j][k],align='center',alpha=1,hatch=\"\\\\\\\\\", width=.5,capsize=2,color='red')\n",
    "            else:\n",
    "                ax.bar(1+cnt,pooled_rsquare[i][j][k],align='center',alpha=1,hatch=\"//\", width=.5,capsize=2,color='blue')\n",
    "            cnt = cnt+1\n",
    "        cnt = cnt+1\n",
    "    cnt = cnt+1\n",
    "plt.grid(True)\n",
    "# ax.set_xlabel('SUBJECT ID',fontsize=14)\n",
    "ax.set_ylabel('R-SQUARE',fontsize=14)\n",
    "ax.set_ylim([.15,.4])\n",
    "ax.set_xlim([-1,13])\n",
    "ax.yaxis.set_minor_locator(AutoMinorLocator())\n",
    "ax.tick_params(which='both', width=2)\n",
    "ax.set_xticks([1,2,4,5,8,9,11,12])\n",
    "ax.set_xticklabels([''])\n",
    "ax.spines['right'].set_color('none')\n",
    "ax.spines['top'].set_color('none')\n",
    "plt.xticks(fontsize=13)\n",
    "plt.yticks(fontsize=13)\n",
    "plt.savefig(path_store_figure+\"human_rsquare.pdf\", dpi=None, facecolor='w', edgecolor='w',\n",
    "             orientation='portrait', papertype=None, format='pdf',transparent=False, bbox_inches='tight', pad_inches=None, metadata=None)\n",
    "plt.show()\n",
    "\n"
   ]
  },
  {
   "cell_type": "code",
   "execution_count": null,
   "metadata": {
    "collapsed": true
   },
   "outputs": [],
   "source": []
  }
 ],
 "metadata": {
  "kernelspec": {
   "display_name": "Python 3",
   "language": "python",
   "name": "python3"
  },
  "language_info": {
   "codemirror_mode": {
    "name": "ipython",
    "version": 3
   },
   "file_extension": ".py",
   "mimetype": "text/x-python",
   "name": "python",
   "nbconvert_exporter": "python",
   "pygments_lexer": "ipython3",
   "version": "3.6.8"
  }
 },
 "nbformat": 4,
 "nbformat_minor": 2
}
